{
 "cells": [
  {
   "cell_type": "markdown",
   "id": "c59b3af3",
   "metadata": {},
   "source": [
    "# Assignment 3: Traveling Salesman Problem Using Simulated Annealing"
   ]
  },
  {
   "cell_type": "code",
   "execution_count": 37,
   "id": "fd1aed8e",
   "metadata": {},
   "outputs": [],
   "source": [
    "import csv\n",
    "from functools import wraps, reduce\n",
    "import math\n",
    "import matplotlib.pyplot as plt\n",
    "import numpy as np\n",
    "import os\n",
    "import random\n",
    "import seaborn as sns\n",
    "import time"
   ]
  },
  {
   "cell_type": "markdown",
   "id": "1912986b",
   "metadata": {},
   "source": [
    "## 0. Functions"
   ]
  },
  {
   "cell_type": "markdown",
   "id": "541fa5c7",
   "metadata": {},
   "source": [
    "0.1 Set up a decorator function timeit to measure and print the execution time of a wrapped function. "
   ]
  },
  {
   "cell_type": "code",
   "execution_count": 2,
   "id": "21fcab35",
   "metadata": {},
   "outputs": [],
   "source": [
    "def timeit(func):\n",
    "    @wraps(func)\n",
    "    def timeit_wrapper(*args, **kwargs):\n",
    "        start_time = time.perf_counter()\n",
    "        result = func(*args, **kwargs)\n",
    "        end_time = time.perf_counter()\n",
    "        total_time = end_time - start_time\n",
    "        print(f'Function Took {total_time:.4f} seconds')\n",
    "        return result\n",
    "    return timeit_wrapper"
   ]
  },
  {
   "cell_type": "markdown",
   "id": "6b4286cc",
   "metadata": {},
   "source": [
    "0.2 Set up a function that reads and parses the data from tsp files, and returns the list of city coordinates."
   ]
  },
  {
   "cell_type": "code",
   "execution_count": 3,
   "id": "72a47291",
   "metadata": {},
   "outputs": [],
   "source": [
    "def read_tsp_file(file_path):\n",
    "    with open(file_path, 'r') as file:\n",
    "        lines = file.readlines()\n",
    "\n",
    "    cities = []\n",
    "    for line in lines:\n",
    "        parts = line.split()\n",
    "        if len(parts) == 3 and parts[0].isdigit():\n",
    "            cities.append((float(parts[1]), float(parts[2])))\n",
    "\n",
    "    return cities"
   ]
  },
  {
   "cell_type": "markdown",
   "id": "b97e5875",
   "metadata": {},
   "source": [
    "0.3 Set up a function which normalises the list of city coordinates to 0-1 coordinates. "
   ]
  },
  {
   "cell_type": "code",
   "execution_count": 4,
   "id": "2e81d80b",
   "metadata": {},
   "outputs": [],
   "source": [
    "def normalise_dist(cities):\n",
    "    # lambda function to split the coordinates into separate lists, 'x_coord','y_coord' \n",
    "    devider = lambda cities: ([city[0] for city in cities], [city[1] for city in cities])\n",
    "    x_coord, y_coord = devider(cities)\n",
    "    # get minmax values of both coordinates\n",
    "    minmax_x = (min(x_coord), max(x_coord))\n",
    "    minmax_y = (min(y_coord), max(y_coord))\n",
    "    # lambda functioon to normalize the coordinates with the range \n",
    "    normalizer = lambda minmax_x, x_coord: [(x - minmax_x[0]) / (minmax_x[1] - minmax_x[0]) for x in x_coord]\n",
    "    # get normalized values of both coordinates \n",
    "    normalized_x = normalizer(minmax_x, x_coord)\n",
    "    normalized_y = normalizer(minmax_y, y_coord)\n",
    "    # lambda function to recouple normalized x and y coordinates for each city\n",
    "    reconstructor = lambda a, b: (a, b)\n",
    "    # final normalized list\n",
    "    normalised = list(map(reconstructor, normalized_x, normalized_y))\n",
    "    return normalised"
   ]
  },
  {
   "cell_type": "markdown",
   "id": "c34e6abc",
   "metadata": {},
   "source": [
    "0.4 Set up a function which reverses the normalization of the list of city coordinates from 0-1 coordinates back to the original values."
   ]
  },
  {
   "cell_type": "code",
   "execution_count": 5,
   "id": "102d94cf",
   "metadata": {},
   "outputs": [],
   "source": [
    "def denormalise_dist(cities, norm_coord):\n",
    "    # lambda function to split the coordinates into separate lists, 'x_coord','y_coord' \n",
    "    devider = lambda cities: ([city[0] for city in cities], [city[1] for city in cities])\n",
    "    x_coord, y_coord = devider(cities)\n",
    "    x_norm , y_norm = devider(norm_coord)\n",
    "    # get minmax values of both coordinates\n",
    "    minmax_x = (min(x_coord), max(x_coord))\n",
    "    minmax_y = (min(y_coord), max(y_coord))\n",
    "    # lambda function to calculate the original coordinates\n",
    "    denormalize = lambda minmax, norm_coords: [x * (minmax[1] - minmax[0]) + minmax[0] for x in norm_coords]\n",
    "    denormalized_x = denormalize(minmax_x, x_norm)\n",
    "    denormalized_y = denormalize(minmax_y, y_norm)\n",
    "    # lambda function to recouple normadelized x and y coordinates for each city\n",
    "    reconstructor = lambda a, b: (a, b)\n",
    "    denormalised = list(map(reconstructor, denormalized_x, denormalized_y))\n",
    "    return denormalised"
   ]
  },
  {
   "cell_type": "markdown",
   "id": "760de627",
   "metadata": {},
   "source": [
    "0.5 Set up a function which calculates the total distance covered in a given tour of the cities."
   ]
  },
  {
   "cell_type": "code",
   "execution_count": 6,
   "id": "4597ccf9",
   "metadata": {},
   "outputs": [],
   "source": [
    "def calculate_total_distance(tour, cities):\n",
    "    total_distance = 0\n",
    "    for i in range(len(tour) - 1):\n",
    "        city1 = cities[tour[i]]\n",
    "        city2 = cities[tour[i + 1]]\n",
    "        distance = math.sqrt((city1[0] - city2[0])**2 + (city1[1] - city2[1])**2)\n",
    "        total_distance += distance\n",
    "\n",
    "    # return to the starting city\n",
    "    total_distance += math.sqrt((cities[tour[-1]][0] - cities[tour[0]][0])**2 +\n",
    "                                (cities[tour[-1]][1] - cities[tour[0]][1])**2)\n",
    "\n",
    "    return total_distance"
   ]
  },
  {
   "cell_type": "markdown",
   "id": "60bebde0",
   "metadata": {},
   "source": [
    "0.6. Set up functions to ammend the tours "
   ]
  },
  {
   "cell_type": "markdown",
   "id": "6b5a0210",
   "metadata": {},
   "source": [
    "0.6.1 Set up a function which \"moves\" a single city's position within a given tour from i to j  "
   ]
  },
  {
   "cell_type": "code",
   "execution_count": 7,
   "id": "d41f1000",
   "metadata": {},
   "outputs": [],
   "source": [
    "def move_city(tour):\n",
    "    i, j = random.sample(range(1, len(tour)-1), 2)\n",
    "    city = tour.pop(i)\n",
    "    tour.insert(j, city)\n",
    "    return tour"
   ]
  },
  {
   "cell_type": "markdown",
   "id": "9bd3f346",
   "metadata": {},
   "source": [
    "0.6.2 Set up a function which \"moves\" a whole section of the tour to a new (random) position "
   ]
  },
  {
   "cell_type": "code",
   "execution_count": 8,
   "id": "063afb47",
   "metadata": {},
   "outputs": [],
   "source": [
    "def move_part(route):\n",
    "    i, j = sorted(random.sample(range(1, len(route)-1), 2))\n",
    "    route_slice = route[i:j]\n",
    "    del route[i:j]\n",
    "    if len(route) - 1 > 0:\n",
    "        new_position = random.randint(1, len(route) - 1)\n",
    "    else:\n",
    "        new_position = 1\n",
    "    route[new_position:new_position] = route_slice\n",
    "    return route"
   ]
  },
  {
   "cell_type": "markdown",
   "id": "1b4ff194",
   "metadata": {},
   "source": [
    "0.6.3 Set up a function to implement a 2-opt swap operation for a deterministic algorithm. The 2-opt swap is a local search heuristic that attempts to improve a given route by reversing a portion of it. "
   ]
  },
  {
   "cell_type": "code",
   "execution_count": 9,
   "id": "40a27158",
   "metadata": {},
   "outputs": [],
   "source": [
    "def two_opt(tour):\n",
    "    # apply 2-opt move\n",
    "    i, j = random.sample(range(len(tour)), 2)\n",
    "    i, j = sorted([i, j])\n",
    "    new_tour = tour[:i] + tour[i:j+1][::-1] + tour[j+1:]\n",
    "    return new_tour"
   ]
  },
  {
   "cell_type": "code",
   "execution_count": 10,
   "id": "a070830c",
   "metadata": {},
   "outputs": [],
   "source": [
    "def two_opt_swap(route, i, j):\n",
    "    new_route = route[:i] + route[i:j + 1][::-1] + route[j + 1:]\n",
    "    return new_route"
   ]
  },
  {
   "cell_type": "code",
   "execution_count": 11,
   "id": "3a8e63bf",
   "metadata": {},
   "outputs": [],
   "source": [
    "def optimise_with_2opt(route, cities):\n",
    "    \"\"\"The determenistic alg for 2-opt swap on best result.\"\"\"\n",
    "    improvement = True\n",
    "    best_route = route\n",
    "    best_distance = calculate_total_distance(route, cities)\n",
    "    while improvement:\n",
    "        improvement = False\n",
    "        for i in range(1, len(best_route) - 1):\n",
    "            for j in range(i + 1, len(best_route)):\n",
    "                new_route = two_opt_swap(best_route, i, j)\n",
    "                new_distance = calculate_total_distance(new_route, cities)\n",
    "                if new_distance < best_distance:\n",
    "                    best_distance = new_distance\n",
    "                    best_route = new_route\n",
    "                    improvement = True\n",
    "                    break\n",
    "            if improvement:\n",
    "                break\n",
    "\n",
    "    return best_route"
   ]
  },
  {
   "cell_type": "markdown",
   "id": "286c15fd",
   "metadata": {},
   "source": [
    "0.7 Set up the cooling schedule functions"
   ]
  },
  {
   "cell_type": "markdown",
   "id": "a0603028",
   "metadata": {},
   "source": [
    "0.7.1 Logarithmic cooling"
   ]
  },
  {
   "cell_type": "code",
   "execution_count": 12,
   "id": "b3aba985",
   "metadata": {},
   "outputs": [],
   "source": [
    "def Hoffmann_Salamon_cooling(iter, D = 10):\n",
    "        return (D-1)/math.log(iter + 2)"
   ]
  },
  {
   "cell_type": "markdown",
   "id": "7d68e43d",
   "metadata": {},
   "source": [
    "0.7.2 Exponential cooling"
   ]
  },
  {
   "cell_type": "code",
   "execution_count": 13,
   "id": "f48dcf85",
   "metadata": {},
   "outputs": [],
   "source": [
    "def exponential_cooling(temp, rate):\n",
    "        return temp*rate"
   ]
  },
  {
   "cell_type": "markdown",
   "id": "a9d1aa4f",
   "metadata": {},
   "source": [
    "0.7.3 Fast cooling"
   ]
  },
  {
   "cell_type": "code",
   "execution_count": 14,
   "id": "58375e12",
   "metadata": {},
   "outputs": [],
   "source": [
    "def fast_cooling(iter, initial):\n",
    "        return initial/(1+iter)"
   ]
  },
  {
   "cell_type": "markdown",
   "id": "851869e3",
   "metadata": {},
   "source": [
    "0.9. Set up functions to run versions of the simulated annealing method"
   ]
  },
  {
   "cell_type": "markdown",
   "id": "685af10a",
   "metadata": {},
   "source": [
    "0.9.1 Intitial - single run test settup - with the four corrective strategies: 2-opt, move city, move part, reverse two adjacent nodes "
   ]
  },
  {
   "cell_type": "code",
   "execution_count": 15,
   "id": "04911370",
   "metadata": {},
   "outputs": [],
   "source": [
    "def simulated_annealing_initial(cities):\n",
    "    \"\"\"Simulated annealing algorithm\"\"\"\n",
    "    num_cities = len(cities)\n",
    "    current_tour = list(range(num_cities))\n",
    "    current_distance = calculate_total_distance(current_tour, cities)\n",
    "    best_tour = current_tour[:]\n",
    "    best_distance = current_distance\n",
    "    temp_array = []\n",
    "    prob_array = []\n",
    "    t = []\n",
    "    fitnes = []\n",
    "    fitnes_t = []\n",
    "    temp_t = []\n",
    "    bb = []\n",
    "    temp_list = []\n",
    "    p0 = 0.95\n",
    "    max_length = 250\n",
    "    no_progress = 0\n",
    "    a = [1,1,2,3,3,4]\n",
    "    \n",
    "    \"\"\"Outer loop to decrease schedule\"\"\"\n",
    "    for inner_ier in range(max_length):\n",
    "        new_tour = current_tour[:]\n",
    "        u = random.sample(a, 1)\n",
    "        if u[0] == 1:\n",
    "            # 2opt swap\n",
    "            tik = 1\n",
    "            i, j = sorted(random.sample(range(1, num_cities), 2))\n",
    "            new_tour[i:j+1] = list(reversed(new_tour[i:j+1]))\n",
    "        elif u[0] == 2:\n",
    "            #move city \n",
    "            tik = 2\n",
    "            new_tour = move_city(new_tour)\n",
    "        elif u[0] == 3:\n",
    "            #move part\n",
    "            tik = 3\n",
    "            new_tour = move_part(new_tour)\n",
    "        elif u[0] == 4:\n",
    "            # Reverse two adjacent nodes\n",
    "            tik = 4\n",
    "            i, j = random.sample(range(1, num_cities), 2)\n",
    "            tem = new_tour[i]\n",
    "            try: \n",
    "                new_tour[i] = new_tour[i+1]\n",
    "                new_tour[i+1] = tem\n",
    "            except: \n",
    "                new_tour[i] = new_tour[i-1]\n",
    "                new_tour[i-1] = tem\n",
    "        # calculate the new tour distance\n",
    "        new_distance = calculate_total_distance(new_tour, cities)\n",
    "        delta_distance = new_distance - current_distance\n",
    "        # decide whether to accept the new tour\n",
    "        if delta_distance <= 0:\n",
    "            fitnes.append(new_distance)\n",
    "            bb.append(best_distance)\n",
    "            current_tour = new_tour\n",
    "            current_distance = new_distance\n",
    "            # update the best tour if needed\n",
    "            if new_distance < best_distance:\n",
    "                best_tour = new_tour\n",
    "                best_distance = new_distance\n",
    "                #print(best_distance)\n",
    "                no_progress =0\n",
    "            else:\n",
    "                no_progress += 1\n",
    "        else:\n",
    "                temp_list.append((-delta_distance)/np.log(p0))                     \n",
    "      \n",
    "    return temp_list"
   ]
  },
  {
   "cell_type": "markdown",
   "id": "df2d15d5",
   "metadata": {},
   "source": [
    "0.9.2 Alternative set up the function to run the simulated annealing method on a given TSP set up, with a defined intitial temperature parameter value and cooling schedule, taking into account 2-opt and move city optimizations ('tomc')"
   ]
  },
  {
   "cell_type": "code",
   "execution_count": 16,
   "id": "e516b076",
   "metadata": {},
   "outputs": [],
   "source": [
    "def simulated_annealing_tomc(cities, initial_temperature=1000, cooling_rate=0.995, num_iterations=10000):\n",
    "    num_cities = len(cities)\n",
    "    current_tour = list(range(num_cities))\n",
    "    random.shuffle(current_tour)\n",
    "    current_distance = calculate_total_distance(current_tour, cities)\n",
    "\n",
    "    best_tour = current_tour[:]\n",
    "    best_distance = current_distance\n",
    "\n",
    "    temperature = initial_temperature\n",
    "\n",
    "    for iteration in range(num_iterations):\n",
    "        # Choose a random elementary edit\n",
    "        if random.uniform(0, 1) < 0.5:\n",
    "            new_tour = two_opt(current_tour)\n",
    "        else:\n",
    "            new_tour = move_city(current_tour)\n",
    "\n",
    "        # Calculate the new tour distance\n",
    "        new_distance = calculate_total_distance(new_tour, cities)\n",
    "\n",
    "        # Decide whether to accept the new tour\n",
    "        if new_distance < current_distance or random.uniform(0, 1) < math.exp((current_distance - new_distance) / temperature):\n",
    "            current_tour = new_tour\n",
    "            current_distance = new_distance\n",
    "\n",
    "            # Update the best tour if needed\n",
    "            if new_distance < best_distance:\n",
    "                best_tour = new_tour\n",
    "                best_distance = new_distance\n",
    "\n",
    "        # Cool down the temperature\n",
    "        temperature *= cooling_rate\n",
    "\n",
    "    return best_tour, best_distance"
   ]
  },
  {
   "cell_type": "markdown",
   "id": "f4b2e1c9",
   "metadata": {},
   "source": [
    "0.9.3 Set up the function to run the default simulated annealing method on a given TSP set up, with a defined intitial temperature parameter value and exponential cooling schedule"
   ]
  },
  {
   "cell_type": "code",
   "execution_count": 17,
   "id": "21445c05",
   "metadata": {},
   "outputs": [],
   "source": [
    "@timeit\n",
    "def simulated_annealing(cities, initial_temperature, cooling_rate):\n",
    "\n",
    "    num_cities = len(cities)\n",
    "    current_tour = list(range(num_cities))\n",
    "    current_distance = calculate_total_distance(current_tour, cities)\n",
    "    best_tour = current_tour[:]\n",
    "    best_distance = current_distance\n",
    "    temperature = initial_temperature\n",
    "    temp_array = []\n",
    "    prob_array = []\n",
    "    t = []\n",
    "    fitnes = []\n",
    "    fitnes_t = []\n",
    "    temp_t = []\n",
    "    bb = []\n",
    "    no_progress = 0\n",
    "    \n",
    "    \"\"\"Outer loop for the cooling schedule\"\"\"\n",
    "    for inner_ier in range(3000):\n",
    "        \n",
    "        a = [1,1,2,3,3,4]\n",
    "        max_iterations = 3000\n",
    "\n",
    "        \"\"\"Inner loop (Markov Chain length)\"\"\"\n",
    "        for iteration in range(max_iterations):\n",
    "        \n",
    "            new_tour = current_tour[:]\n",
    "            u = random.sample(a, 1)\n",
    "        \n",
    "            if u[0] == 1:\n",
    "            # 2opt swap\n",
    "                tik = 1\n",
    "                i, j = sorted(random.sample(range(1, num_cities), 2))\n",
    "                new_tour[i:j+1] = list(reversed(new_tour[i:j+1]))\n",
    "            elif u[0] == 2:\n",
    "            # move city \n",
    "                tik = 2\n",
    "                new_tour = move_city(new_tour)\n",
    "            elif u[0] == 3:\n",
    "            # move part\n",
    "                tik = 3\n",
    "                new_tour = move_part(new_tour)\n",
    "            elif u[0] == 4:\n",
    "                # reverse two adjacent neigbours\n",
    "                tik = 4\n",
    "                i, j = random.sample(range(1, num_cities), 2)\n",
    "                tem = new_tour[i]\n",
    "                try: \n",
    "                    new_tour[i] = new_tour[i+1]\n",
    "                    new_tour[i+1] = tem\n",
    "                except: \n",
    "                    new_tour[i] = new_tour[i-1]\n",
    "                    new_tour[i-1] = tem\n",
    "                \n",
    "            # calculate the new tour distance\n",
    "            new_distance = calculate_total_distance(new_tour, cities)\n",
    "            delta_distance = new_distance - current_distance\n",
    "        \n",
    "            # decide whether to accept the new tour\n",
    "            if delta_distance <= 0:\n",
    "                fitnes.append(new_distance)\n",
    "                fitnes_t.append((inner_ier)*max_iterations +iteration) \n",
    "                bb.append(best_distance)\n",
    "                current_tour = new_tour\n",
    "                current_distance = new_distance\n",
    "                # update the best tour if needed\n",
    "                if new_distance < best_distance:\n",
    "                    best_tour = new_tour\n",
    "                    best_distance = new_distance\n",
    "                    print(best_distance)\n",
    "                    no_progress =0\n",
    "                else:\n",
    "                    no_progress += 1\n",
    "            else:\n",
    "                no_progress += 1\n",
    "                argument = -delta_distance / temperature\n",
    "                random_u = random.uniform(0, 1)\n",
    "                prob_array.append(math.exp(argument))\n",
    "                t.append((inner_ier)*max_iterations +iteration) \n",
    "                if math.exp(argument) > random_u:\n",
    "                    current_tour = new_tour\n",
    "                    current_distance = new_distance\n",
    "\n",
    "        temperature = exponential_cooling(temperature, cooling_rate)\n",
    "        \n",
    "        # reannealing\n",
    "        if temperature < 0.1 and no_progress > 50:\n",
    "            best_route_2opt = optimise_with_2opt(best_tour, cities)\n",
    "            best_dist_2opt = calculate_total_distance(best_route_2opt, cities)\n",
    "            if best_dist_2opt == best_distance:\n",
    "                temperature = 3\n",
    "                print(\"reannealing\")\n",
    "            \n",
    "        temp_array.append(temperature)\n",
    "        temp_t.append(inner_ier)                       \n",
    "      \n",
    "    return best_tour, best_distance ,temp_array, prob_array, t, fitnes, fitnes_t, temp_t, bb"
   ]
  },
  {
   "cell_type": "markdown",
   "id": "6676d067",
   "metadata": {},
   "source": [
    "0.9.4. Simualated annealing with the list-based cooling schedule "
   ]
  },
  {
   "cell_type": "code",
   "execution_count": 19,
   "id": "8d2bb119",
   "metadata": {},
   "outputs": [],
   "source": [
    "@timeit\n",
    "def simulated_annealing_list(cities, initial_temperature, cooling_rate, colling_schedule_func, temper_list):\n",
    "    \"\"\"Simulated annealing algorithm\"\"\"\n",
    "    num_cities = len(cities)\n",
    "    current_tour = list(range(num_cities))\n",
    "    current_distance = calculate_total_distance(current_tour, cities)\n",
    "    best_tour = current_tour[:]\n",
    "    best_distance = current_distance\n",
    "    list_temper = temper_list.copy()\n",
    "    temperature = np.max(list_temper)\n",
    "    temp_array = []\n",
    "    prob_array = []\n",
    "    t = []\n",
    "    fitnes = []\n",
    "    fitnes_t = []\n",
    "    temp_t = []\n",
    "    bb = []\n",
    "    no_progress = 0\n",
    "    \"\"\"Outer loop to decrease schedule\"\"\"\n",
    "    for inner_ier in range(2000):\n",
    "      \"\"\"Inner loop (Markov Chain length)\"\"\"\n",
    "      temp_list = []\n",
    "      a = [1,1,2,3,3,4]\n",
    "      inner_t = 0\n",
    "      c = 0\n",
    "      for iteration in range(1000):\n",
    "        new_tour = current_tour[:]\n",
    "        u = random.sample(a, 1)\n",
    "        if u[0] == 1:\n",
    "            # 2opt swap\n",
    "            tik = 1\n",
    "            i, j = sorted(random.sample(range(1, num_cities), 2))\n",
    "            new_tour[i:j+1] = list(reversed(new_tour[i:j+1]))\n",
    "        elif u[0] == 2:\n",
    "            #move city \n",
    "            tik = 2\n",
    "            new_tour = move_city(new_tour)\n",
    "        elif u[0] == 3:\n",
    "            #move part\n",
    "            tik = 3\n",
    "            new_tour = move_part(new_tour)\n",
    "        elif u[0] == 4:\n",
    "            # Reverse two adjacent neigbours\n",
    "            tik = 4\n",
    "            i, j = random.sample(range(1, num_cities), 2)\n",
    "            tem = new_tour[i]\n",
    "            try: \n",
    "                new_tour[i] = new_tour[i+1]\n",
    "                new_tour[i+1] = tem\n",
    "            except: \n",
    "                new_tour[i] = new_tour[i-1]\n",
    "                new_tour[i-1] = tem\n",
    "        # calculate the new tour distance\n",
    "        new_distance = calculate_total_distance(new_tour, cities)\n",
    "        delta_distance = new_distance - current_distance\n",
    "        # decide whether to accept the new tour\n",
    "        if delta_distance <= 0:\n",
    "            fitnes.append(new_distance)\n",
    "            fitnes_t.append((inner_ier)*2000 +iteration) \n",
    "            current_tour = new_tour\n",
    "            current_distance = new_distance\n",
    "            # update the best tour if needed\n",
    "            if new_distance < best_distance:\n",
    "                best_tour = new_tour\n",
    "                best_distance = new_distance\n",
    "                #print(best_distance)\n",
    "                no_progress =0\n",
    "            else:\n",
    "                no_progress += 1\n",
    "        else:\n",
    "            no_progress += 1\n",
    "            argument = -delta_distance / temperature\n",
    "            random_u = random.uniform(0, 1)\n",
    "            prob_array.append(math.exp(argument))\n",
    "            t.append((inner_ier)*2000 +iteration) \n",
    "            if math.exp(argument) > random_u:\n",
    "                #print((inner_t-delta_distance)/np.log(random_u))\n",
    "                inner_t += (-delta_distance)/np.log(random_u)\n",
    "                c +=1\n",
    "                #temp_list.append((inner_t-delta_distance)/np.log(random_u))\n",
    "                #temp_list.append(inner_t)\n",
    "                #print(inner_t)\n",
    "                current_tour = new_tour\n",
    "                current_distance = new_distance\n",
    "            \n",
    "      #temperature = colling_schedule_func(inner_ier, initial_temperature, temperature, cooling_rate)\n",
    "      if c > 0:\n",
    "            list_temper.remove(max(list_temper))\n",
    "            list_temper.append(inner_t/c)\n",
    "            temperature = np.max(list_temper)\n",
    "            #print(temperature)\n",
    "      if inner_ier % 100 == 0:\n",
    "                temp_array.append(temperature)\n",
    "                bb.append(best_distance)\n",
    "                #print(temperature)\n",
    "                temp_t.append(inner_ier)      \n",
    "      #temperature = exponential_cooling(temperature, cooling_rate)            \n",
    "      \n",
    "    return best_tour, best_distance ,temp_array, prob_array, t, fitnes, fitnes_t, temp_t, bb"
   ]
  },
  {
   "cell_type": "markdown",
   "id": "7737e992",
   "metadata": {},
   "source": [
    "0.9.5. Simulated annealing with a cool_func implementation "
   ]
  },
  {
   "cell_type": "code",
   "execution_count": 20,
   "id": "4bd94593",
   "metadata": {},
   "outputs": [],
   "source": [
    "@timeit\n",
    "def simulated_annealing_cooling_check(cities, initial_temperature, cooling_rate, cool_func):\n",
    "    \"\"\"Simulated annealing algorithm\"\"\"\n",
    "    num_cities = len(cities)\n",
    "    current_tour = list(range(num_cities))\n",
    "    current_distance = calculate_total_distance(current_tour, cities)\n",
    "    best_tour = current_tour[:]\n",
    "    best_distance = current_distance\n",
    "    temperature = initial_temperature\n",
    "    temp_array = []\n",
    "    prob_array = []\n",
    "    t = []\n",
    "    fitnes = []\n",
    "    fitnes_t = []\n",
    "    temp_t = []\n",
    "    bb = []\n",
    "    no_progress = 0\n",
    "    \"\"\"Outer loop to decrease schedule\"\"\"\n",
    "    for inner_ier in range(2000):\n",
    "      a = [1,1,2,3,3,4]\n",
    "      \"\"\"Inner loop (Markov Chain length)\"\"\"\n",
    "      for iteration in range(1000):\n",
    "        new_tour = current_tour[:]\n",
    "        u = random.sample(a, 1)\n",
    "        if u[0] == 1:\n",
    "            # 2opt swap\n",
    "            tik = 1\n",
    "            i, j = sorted(random.sample(range(1, num_cities), 2))\n",
    "            new_tour[i:j+1] = list(reversed(new_tour[i:j+1]))\n",
    "        elif u[0] == 2:\n",
    "            #move city \n",
    "            tik = 2\n",
    "            new_tour = move_city(new_tour)\n",
    "        elif u[0] == 3:\n",
    "            #move part\n",
    "            tik = 3\n",
    "            new_tour = move_part(new_tour)\n",
    "        elif u[0] == 4:\n",
    "            # Reverse two adjacent neigbours\n",
    "            tik = 4\n",
    "            i, j = random.sample(range(1, num_cities), 2)\n",
    "            tem = new_tour[i]\n",
    "            try: \n",
    "                new_tour[i] = new_tour[i+1]\n",
    "                new_tour[i+1] = tem\n",
    "            except: \n",
    "                new_tour[i] = new_tour[i-1]\n",
    "                new_tour[i-1] = tem\n",
    "        # calculate the new tour distance\n",
    "        new_distance = calculate_total_distance(new_tour, cities)\n",
    "        delta_distance = new_distance - current_distance\n",
    "        # decide whether to accept the new tour\n",
    "        if delta_distance <= 0:\n",
    "            #a.append(tik)\n",
    "            fitnes.append(new_distance)\n",
    "            fitnes_t.append((inner_ier)*2000 +iteration) \n",
    "            current_tour = new_tour\n",
    "            current_distance = new_distance\n",
    "            # update the best tour if needed\n",
    "            if new_distance < best_distance:\n",
    "                best_tour = new_tour\n",
    "                best_distance = new_distance\n",
    "                #print(best_distance)\n",
    "                no_progress = 0\n",
    "            else:\n",
    "                no_progress += 1\n",
    "        else:\n",
    "            no_progress += 1\n",
    "            argument = -delta_distance / temperature\n",
    "            random_u = random.uniform(0, 1)\n",
    "            prob_array.append(math.exp(argument))\n",
    "            t.append((inner_ier)*2000 +iteration) \n",
    "            if math.exp(argument) > random_u:\n",
    "                current_tour = new_tour\n",
    "                current_distance = new_distance\n",
    "            \n",
    "      temperature = cool_func(inner_ier, initial_temperature, temperature, cooling_rate)\n",
    "      # reannealing\n",
    "      if temperature < 0.7 and no_progress > 6000:\n",
    "        temperature = 3\n",
    "      if inner_ier % 100 == 0:\n",
    "                temp_array.append(temperature)\n",
    "                bb.append(best_distance)\n",
    "                #print(temperature)\n",
    "                temp_t.append(inner_ier)  \n",
    "    return best_tour, best_distance ,temp_array, prob_array, t, fitnes, fitnes_t, temp_t, bb"
   ]
  },
  {
   "cell_type": "markdown",
   "id": "02c1f29b",
   "metadata": {},
   "source": [
    "0.9.6 Set up the function to run the default simulated annealing method on a given TSP set up, with a defined intitial temperature parameter value and cooling schedule and a changing length of Markov chains "
   ]
  },
  {
   "cell_type": "code",
   "execution_count": 21,
   "id": "647df368",
   "metadata": {},
   "outputs": [],
   "source": [
    "@timeit\n",
    "def simulated_annealing_mar_len(cities, initial_temperature, cooling_rate):\n",
    "\n",
    "    num_cities = len(cities)\n",
    "    mc_iterations = 10\n",
    "    best_tours_mc_l = list(range(mc_iterations))\n",
    "    best_distances_mc_l = []\n",
    "    temp_array_list = list(range(mc_iterations))\n",
    "    temp_t_list = list(range(mc_iterations))\n",
    "    prob_array_list = list(range(mc_iterations))\n",
    "    t_list = list(range(mc_iterations))\n",
    "    fitness_list = list(range(mc_iterations))\n",
    "    fitness_t_list = list(range(mc_iterations))\n",
    "    best_list = list(range(mc_iterations))\n",
    "\n",
    "    \"\"\"Lenght of Markov chain spec.\"\"\"\n",
    "    for l in range(mc_iterations):\n",
    "        max_iterations = 500 + l * 500\n",
    "        print(max_iterations)\n",
    "        \n",
    "        current_tour = list(range(num_cities))\n",
    "        temp_array = []\n",
    "        prob_array = []\n",
    "        t = []\n",
    "        fitnes = []\n",
    "        fitnes_t = []\n",
    "        temp_t = []\n",
    "        bb = []\n",
    "        no_progress = 0\n",
    "        best_tour = current_tour[:]\n",
    "        current_distance = calculate_total_distance(current_tour, cities)\n",
    "        best_distance = current_distance\n",
    "        temperature = initial_temperature\n",
    "        \n",
    "        \"\"\"Outer loop for the cooling schedule\"\"\"\n",
    "        for inner_ier in range(3000):\n",
    "\n",
    "            a = [1,1,2,3,3,4]\n",
    "\n",
    "            \"\"\"Inner loop (Markov Chain length)\"\"\"\n",
    "            for iteration in range(max_iterations):\n",
    "\n",
    "                new_tour = current_tour[:]\n",
    "                u = random.sample(a, 1)\n",
    "\n",
    "                if u[0] == 1:\n",
    "                # 2opt swap\n",
    "                    tik = 1\n",
    "                    i, j = sorted(random.sample(range(1, num_cities), 2))\n",
    "                    new_tour[i:j+1] = list(reversed(new_tour[i:j+1]))\n",
    "                elif u[0] == 2:\n",
    "                # move city \n",
    "                    tik = 2\n",
    "                    new_tour = move_city(new_tour)\n",
    "                elif u[0] == 3:\n",
    "                # move part\n",
    "                    tik = 3\n",
    "                    new_tour = move_part(new_tour)\n",
    "                elif u[0] == 4:\n",
    "                    # reverse two adjacent neigbours\n",
    "                    tik = 4\n",
    "                    i, j = random.sample(range(1, num_cities), 2)\n",
    "                    tem = new_tour[i]\n",
    "                    try: \n",
    "                        new_tour[i] = new_tour[i+1]\n",
    "                        new_tour[i+1] = tem\n",
    "                    except: \n",
    "                        new_tour[i] = new_tour[i-1]\n",
    "                        new_tour[i-1] = tem\n",
    "\n",
    "                # calculate the new tour distance\n",
    "                new_distance = calculate_total_distance(new_tour, cities)\n",
    "                delta_distance = new_distance - current_distance\n",
    "\n",
    "                # decide whether to accept the new tour\n",
    "                if delta_distance <= 0:\n",
    "                    fitnes.append(new_distance)\n",
    "                    fitnes_t.append((inner_ier)*max_iterations +iteration) \n",
    "                    bb.append(best_distance)\n",
    "                    current_tour = new_tour\n",
    "                    current_distance = new_distance\n",
    "                    # update the best tour if needed\n",
    "                    if new_distance < best_distance:\n",
    "                        best_tour = new_tour\n",
    "                        best_distance = new_distance\n",
    "                        # print(best_distance)\n",
    "                        no_progress =0\n",
    "                    else:\n",
    "                        no_progress += 1\n",
    "                else:\n",
    "                    no_progress += 1\n",
    "                    argument = -delta_distance / temperature\n",
    "                    random_u = random.uniform(0, 1)\n",
    "                    prob_array.append(math.exp(argument))\n",
    "                    t.append((inner_ier)*max_iterations +iteration) \n",
    "                    if math.exp(argument) > random_u:\n",
    "                        current_tour = new_tour\n",
    "                        current_distance = new_distance\n",
    "                        \n",
    "            temperature = exponential_cooling(temperature, cooling_rate)\n",
    "\n",
    "            # reaneiling\n",
    "            if temperature < 0.1 and no_progress > 50:\n",
    "                best_route_2opt = optimise_with_2opt(best_tour, cities)\n",
    "                best_dist_2opt = calculate_total_distance(best_route_2opt, cities)\n",
    "                if best_dist_2opt == best_distance:\n",
    "                    temperature = 3\n",
    "                    print(\"reannealing\")\n",
    "\n",
    "            temp_array.append(temperature)\n",
    "            temp_t.append(inner_ier) \n",
    "            \n",
    "        print(\"Final results for MC length \", max_iterations)\n",
    "        print(best_tour)\n",
    "        best_tours_mc_l[l]= best_tour\n",
    "        print(best_distance)\n",
    "        best_distances_mc_l.append(best_distance)\n",
    "        #print(temp_array)\n",
    "        temp_array_list[l] = temp_array\n",
    "        #print(temp_t)\n",
    "        temp_t_list[l]= temp_t\n",
    "        prob_array_list[l] = prob_array\n",
    "        t_list[l] = t\n",
    "        fitness_list[l] = fitnes\n",
    "        fitness_t_list[l] = fitnes_t\n",
    "        best_list[l] = bb\n",
    "            \n",
    "    return best_tours_mc_l,best_distances_mc_l,temp_array_list,temp_t_list, t_list, fitness_list, fitness_t_list, best_list"
   ]
  },
  {
   "cell_type": "markdown",
   "id": "aa6c6c8a",
   "metadata": {},
   "source": [
    "0.10 Set up a function to plot a given tour of the cities"
   ]
  },
  {
   "cell_type": "code",
   "execution_count": 22,
   "id": "7a0a955f",
   "metadata": {},
   "outputs": [],
   "source": [
    "def plot_tour(tour, cities):\n",
    "    x = [cities[city][0] for city in tour]\n",
    "    y = [cities[city][1] for city in tour]\n",
    "    x.append(x[0])\n",
    "    y.append(y[0])\n",
    "    plt.figure(figsize=(8, 6))\n",
    "    plt.plot(x, y, 'o-', label='Tour Path')\n",
    "    plt.plot([cities[i][0] for i in range(len(cities))], \n",
    "             [cities[i][1] for i in range(len(cities))], \n",
    "             'o', label='Cities')\n",
    "    \n",
    "    plt.title('Traveling Salesman Problem - Simulated Annealing')\n",
    "    plt.xlabel('X-coordinate')\n",
    "    plt.ylabel('Y-coordinate')\n",
    "    plt.legend()\n",
    "    plt.show()"
   ]
  },
  {
   "cell_type": "markdown",
   "id": "9a06933e",
   "metadata": {},
   "source": [
    "0.11.1 Set up a function to run multiple simulated_annealing simulations"
   ]
  },
  {
   "cell_type": "code",
   "execution_count": 23,
   "id": "6fcbdf85",
   "metadata": {},
   "outputs": [],
   "source": [
    "def run_multiple_simulations(cities, num_simulations=100):\n",
    "    best_overall_tour = None\n",
    "    best_overall_distance = float('inf')\n",
    "\n",
    "    for i in range(num_simulations):\n",
    "        #print(f\"Running Simulation {i + 1}\")\n",
    "        current_tour, current_distance = simulated_annealing(cities)\n",
    "        if current_distance < best_overall_distance:\n",
    "            best_overall_tour = current_tour\n",
    "            best_overall_distance = current_distance\n",
    "\n",
    "    return best_overall_tour, best_overall_distance"
   ]
  },
  {
   "cell_type": "markdown",
   "id": "2d8b83b3",
   "metadata": {},
   "source": [
    "0.11.1 Set up a function to run multiple tomc simulated_annealing simulations"
   ]
  },
  {
   "cell_type": "code",
   "execution_count": 24,
   "id": "c3f15c00",
   "metadata": {},
   "outputs": [],
   "source": [
    "def run_multiple_simulations_tomc(cities, num_simulations=100):\n",
    "    best_overall_tour = None\n",
    "    best_overall_distance = float('inf')\n",
    "\n",
    "    for i in range(num_simulations):\n",
    "        #print(f\"Running Simulation {i + 1}\")\n",
    "        current_tour, current_distance = simulated_annealing_tomc(cities)\n",
    "        if current_distance < best_overall_distance:\n",
    "            best_overall_tour = current_tour\n",
    "            best_overall_distance = current_distance\n",
    "\n",
    "    return best_overall_tour, best_overall_distance"
   ]
  },
  {
   "cell_type": "markdown",
   "id": "d02c48a1",
   "metadata": {},
   "source": [
    "0.12 Set up a function to find the best hyperparameters for a given TSP"
   ]
  },
  {
   "cell_type": "code",
   "execution_count": 25,
   "id": "9d759312",
   "metadata": {},
   "outputs": [],
   "source": [
    "# too long to run, delete if not used\n",
    "def param_search(cities, initial_temp, cooling_rate, in_temp=0.05, col_rate=0.95, max_no_improve=30):\n",
    "    \"\"\" Simulated aneiling to find best hyperparameters for TSP\"\"\"\n",
    "    curr_temp = initial_temp\n",
    "    curr_rate = cooling_rate\n",
    "    best_tour, best_distance_init, temp_arr, prob, t, fit, ft, temp_t, best = simulated_annealing(cities, initial_temp, cooling_rate)\n",
    "    \n",
    "    temperature = in_temp\n",
    "    best_abs = np.inf\n",
    "    best_initial_temp = 0 \n",
    "    best_cooling_rate = 0\n",
    "    no_improve_counter = 0\n",
    "\n",
    "    log = []\n",
    "\n",
    "    for k in range(150):\n",
    "        step_size_temp = 2.5 / (1 + k)  \n",
    "        step_size_rate = 0.01 / (1 + k)  \n",
    "\n",
    "        mean_len = []\n",
    "        improved = False\n",
    "\n",
    "        for i in range(4):\n",
    "            u = random.uniform(-step_size_temp, step_size_temp) \n",
    "            new_temp = max(curr_temp + u, 0.1) \n",
    "            u = random.uniform(-step_size_rate, step_size_rate) \n",
    "            new_rate = min(max(curr_rate + u, 0.01), 0.999) \n",
    "\n",
    "            for b in range(7):\n",
    "                best_tour, best_distance, temp_arr, prob, t, fit, ft, temp_t, best = simulated_annealing(cities, new_temp, new_rate)\n",
    "                mean_len.append(best_distance)\n",
    "\n",
    "            mean_len_v = np.mean(mean_len)\n",
    "            delta_distance = mean_len_v - best_distance_init\n",
    "            argument = -delta_distance / temperature\n",
    "            random_u = random.uniform(0, 1)\n",
    "\n",
    "            if delta_distance < 0 or math.exp(argument) > random_u:\n",
    "                curr_temp = new_temp\n",
    "                curr_rate = new_rate\n",
    "                best_distance_init = mean_len_v\n",
    "                print(step_size_temp)\n",
    "                if best_distance_init < best_abs:\n",
    "                    best_abs = best_distance_init\n",
    "                    print(f\"Abs best:{best_abs}\")\n",
    "                    print(f\"cur temp:{temperature}\")\n",
    "                    print(f\"new_temp :{new_temp}\")\n",
    "                    print(f\"new_rate:{new_rate}\")\n",
    "                    best_initial_temp = curr_temp \n",
    "                    best_cooling_rate = curr_rate\n",
    "                    improved = True\n",
    "\n",
    "        log.append((k, curr_temp, curr_rate, best_abs))\n",
    "\n",
    "        if not improved:\n",
    "            no_improve_counter += 1\n",
    "        else:\n",
    "            no_improve_counter = 0\n",
    "\n",
    "        if no_improve_counter >= max_no_improve:\n",
    "            print(\"Stopping early due to no improvement.\")\n",
    "            break\n",
    "\n",
    "        temperature *= col_rate\n",
    "\n",
    "    return best_abs, best_initial_temp, best_cooling_rate, log\n"
   ]
  },
  {
   "cell_type": "markdown",
   "id": "216c610a",
   "metadata": {},
   "source": [
    "## 1. Test Runs: General"
   ]
  },
  {
   "cell_type": "markdown",
   "id": "c4f0a686",
   "metadata": {},
   "source": [
    "1.1 Test effect of delta and initial temperature on cooling schedule. "
   ]
  },
  {
   "cell_type": "code",
   "execution_count": 26,
   "id": "ec0d3f04",
   "metadata": {},
   "outputs": [
    {
     "data": {
      "image/png": "[encoded data removed]",
      "text/plain": [
       "<Figure size 640x480 with 1 Axes>"
      ]
     },
     "metadata": {},
     "output_type": "display_data"
    },
    {
     "data": {
      "text/plain": [
       "[<matplotlib.lines.Line2D at 0x15f749790>]"
      ]
     },
     "execution_count": 26,
     "metadata": {},
     "output_type": "execute_result"
    },
    {
     "data": {
      "image/png": "[encoded data removed]",
      "text/plain": [
       "<Figure size 640x480 with 1 Axes>"
      ]
     },
     "metadata": {},
     "output_type": "display_data"
    }
   ],
   "source": [
    "temperature = 20\n",
    "initial_temperature = 20\n",
    "ar = []\n",
    "ir = []\n",
    "pr = []\n",
    "for i in range(1, 2000):\n",
    "    temperature =  initial_temperature / (np.log(i + 1))\n",
    "    ar.append(temperature)\n",
    "    ir.append(i)\n",
    "    argument = -0.05 / temperature\n",
    "    pr.append(math.exp(argument))\n",
    "plt.plot(ir, ar)\n",
    "plt.show()\n",
    "plt.plot(ir, pr)"
   ]
  },
  {
   "cell_type": "code",
   "execution_count": 27,
   "id": "19336b07",
   "metadata": {},
   "outputs": [
    {
     "data": {
      "image/png": "[encoded data removed]",
      "text/plain": [
       "<Figure size 640x480 with 1 Axes>"
      ]
     },
     "metadata": {},
     "output_type": "display_data"
    },
    {
     "data": {
      "text/plain": [
       "[<matplotlib.lines.Line2D at 0x15f829010>]"
      ]
     },
     "execution_count": 27,
     "metadata": {},
     "output_type": "execute_result"
    },
    {
     "data": {
      "image/png": "[encoded data removed]",
      "text/plain": [
       "<Figure size 640x480 with 1 Axes>"
      ]
     },
     "metadata": {},
     "output_type": "display_data"
    }
   ],
   "source": [
    "temperature = 20\n",
    "initial_temperature = 40\n",
    "ar = []\n",
    "ir = []\n",
    "pr = []\n",
    "for i in range(1, 2000):\n",
    "    temperature =  initial_temperature / (1 + i)\n",
    "    ar.append(temperature)\n",
    "    ir.append(i)\n",
    "    argument = -0.05 / temperature\n",
    "    pr.append(math.exp(argument))\n",
    "\n",
    "plt.plot(ir, ar)\n",
    "plt.show()\n",
    "plt.plot(ir, pr)"
   ]
  },
  {
   "cell_type": "markdown",
   "id": "b3f00540",
   "metadata": {},
   "source": [
    "## 2. Test Runs: TSP - Configuration: EIL51"
   ]
  },
  {
   "cell_type": "code",
   "execution_count": 28,
   "id": "37365ab2",
   "metadata": {},
   "outputs": [
    {
     "data": {
      "text/plain": [
       "'/Users/aleksandar/Documents/GitHub/simulated_annealing'"
      ]
     },
     "execution_count": 28,
     "metadata": {},
     "output_type": "execute_result"
    }
   ],
   "source": [
    "os.getcwd()"
   ]
  },
  {
   "cell_type": "markdown",
   "id": "1aa82ac8",
   "metadata": {},
   "source": [
    "2.1 Set up the file extraction"
   ]
  },
  {
   "cell_type": "code",
   "execution_count": 30,
   "id": "799bf90a",
   "metadata": {},
   "outputs": [],
   "source": [
    "# the path to the folder containing the csv file\n",
    "folder_path = 'TSP-Configurations/'"
   ]
  },
  {
   "cell_type": "code",
   "execution_count": null,
   "id": "ae441707",
   "metadata": {},
   "outputs": [],
   "source": [
    "# the name of the csv file you want to read\n",
    "file_name = 'eil51.tsp.txt'\n",
    "\n",
    "# combine the folder path and file name to create the file path\n",
    "file_path = folder_path + file_name"
   ]
  },
  {
   "cell_type": "markdown",
   "id": "57aa785f",
   "metadata": {},
   "source": [
    "2.2 Run the default simulated annealing simulation"
   ]
  },
  {
   "cell_type": "markdown",
   "id": "546768f8",
   "metadata": {},
   "source": [
    "2.2.1 Initialization with a fixed cooling rate"
   ]
  },
  {
   "cell_type": "code",
   "execution_count": null,
   "id": "8f8aec53",
   "metadata": {},
   "outputs": [],
   "source": [
    "tsp_file_path = file_path\n",
    "cities = read_tsp_file(tsp_file_path)\n",
    "random.shuffle(cities)\n",
    "cities_norm = normalise_dist(cities)\n",
    "    \n",
    "initial_temp = 1400\n",
    "cooling_rate = 0.995 "
   ]
  },
  {
   "cell_type": "markdown",
   "id": "95d80f32",
   "metadata": {},
   "source": [
    "2.2.2 Estimate the best tour route and distance "
   ]
  },
  {
   "cell_type": "code",
   "execution_count": null,
   "id": "acea27a2",
   "metadata": {},
   "outputs": [],
   "source": [
    "best_tour, best_distance, temp_arr, prob, t, fit, ft, temp_t, best = simulated_annealing(cities,initial_temp,cooling_rate)"
   ]
  },
  {
   "cell_type": "code",
   "execution_count": null,
   "id": "16182e17",
   "metadata": {},
   "outputs": [],
   "source": [
    "best"
   ]
  },
  {
   "cell_type": "code",
   "execution_count": null,
   "id": "bb6c9d98",
   "metadata": {},
   "outputs": [],
   "source": [
    "min(best)"
   ]
  },
  {
   "cell_type": "markdown",
   "id": "7cea7db2",
   "metadata": {},
   "source": [
    "2.2.3 Decouple the coordinates"
   ]
  },
  {
   "cell_type": "code",
   "execution_count": null,
   "id": "1ae0bf28",
   "metadata": {},
   "outputs": [],
   "source": [
    "x = [cities[city][0] for city in best_tour]\n",
    "y = [cities[city][1] for city in best_tour]\n",
    "x.append(x[0])\n",
    "y.append(y[0])"
   ]
  },
  {
   "cell_type": "markdown",
   "id": "33b75a10",
   "metadata": {},
   "source": [
    "2.2.4 Calculate best total distance"
   ]
  },
  {
   "cell_type": "code",
   "execution_count": null,
   "id": "ad23552f",
   "metadata": {},
   "outputs": [],
   "source": [
    "best_distance = calculate_total_distance(best_tour, cities)"
   ]
  },
  {
   "cell_type": "markdown",
   "id": "8c6e3056",
   "metadata": {},
   "source": [
    "2.2.5 Plot the best route"
   ]
  },
  {
   "cell_type": "code",
   "execution_count": null,
   "id": "61c7ee3e",
   "metadata": {},
   "outputs": [],
   "source": [
    "print(\"Best Tour:\", best_tour)\n",
    "print(\"Best Distance:\", best_distance)\n",
    "plot_tour(best_tour, cities)"
   ]
  },
  {
   "cell_type": "markdown",
   "id": "6b68646e",
   "metadata": {},
   "source": [
    "2.2.6 Apply further optimization options on the best_tour"
   ]
  },
  {
   "cell_type": "code",
   "execution_count": null,
   "id": "cf5c9e63",
   "metadata": {},
   "outputs": [],
   "source": [
    "best_route_2opt = optimise_with_2opt(best_tour, cities)\n",
    "best_dist_2opt = calculate_total_distance(best_route_2opt, cities)\n",
    "print(\"Best Distance_2opt:\", best_dist_2opt)"
   ]
  },
  {
   "cell_type": "code",
   "execution_count": null,
   "id": "79064b30",
   "metadata": {},
   "outputs": [],
   "source": [
    "coord_denorm = list(zip(x, y))\n",
    "plot_tour(best_tour, cities_norm)"
   ]
  },
  {
   "cell_type": "code",
   "execution_count": null,
   "id": "ebbac0b4",
   "metadata": {},
   "outputs": [],
   "source": [
    "plt.figure(figsize=(8, 6))\n",
    "plt.plot(temp_t, temp_arr)\n",
    "plt.title('Traveling Salesman Problem - Simulated Annealing - EL51')\n",
    "plt.xlabel('Temp_t')\n",
    "plt.ylabel('Temp_rr')\n",
    "plt.show()"
   ]
  },
  {
   "cell_type": "code",
   "execution_count": null,
   "id": "9e2b76f6",
   "metadata": {},
   "outputs": [],
   "source": [
    "plt.figure(figsize=(8, 6))\n",
    "plt.scatter(t, prob, s=5, label='Data Points')\n",
    "plt.title('Traveling Salesman Problem - Simulated Annealing - EL51')\n",
    "plt.xlabel('t')\n",
    "plt.ylabel('prob')\n",
    "plt.show()"
   ]
  },
  {
   "cell_type": "code",
   "execution_count": null,
   "id": "42138631",
   "metadata": {},
   "outputs": [],
   "source": [
    "plt.figure(figsize=(8, 6))\n",
    "plt.plot(ft, fit)\n",
    "plt.title('Traveling Salesman Problem - Simulated Annealing - EL51')\n",
    "plt.xlabel('ft')\n",
    "plt.ylabel('fit')\n",
    "plt.show()"
   ]
  },
  {
   "cell_type": "code",
   "execution_count": null,
   "id": "59018fc4",
   "metadata": {},
   "outputs": [],
   "source": [
    "plt.figure(figsize=(8, 6))\n",
    "plt.plot(ft, best)\n",
    "plt.title('Traveling Salesman Problem - Simulated Annealing - EL51')\n",
    "plt.xlabel('ft')\n",
    "plt.ylabel('best')\n",
    "plt.show()"
   ]
  },
  {
   "cell_type": "code",
   "execution_count": null,
   "id": "b1fbfb83",
   "metadata": {},
   "outputs": [],
   "source": [
    "print(best_dist_2opt)"
   ]
  },
  {
   "cell_type": "markdown",
   "id": "7a405b4a",
   "metadata": {},
   "source": [
    "2.3.X Run the simulated annealing method with the 2-opt and move-city corrections"
   ]
  },
  {
   "cell_type": "code",
   "execution_count": null,
   "id": "347dd479",
   "metadata": {},
   "outputs": [],
   "source": [
    "best_tour, best_distance = simulated_annealing_tomc(cities)\n",
    "print(\"Best Tour:\", best_tour)\n",
    "print(\"Best Distance:\", best_distance)\n",
    "plot_tour(best_tour, cities)"
   ]
  },
  {
   "cell_type": "markdown",
   "id": "6aa39dce",
   "metadata": {},
   "source": [
    "This is not the result we want."
   ]
  },
  {
   "cell_type": "markdown",
   "id": "052e7c83",
   "metadata": {},
   "source": [
    "2.3.2 Run multiple simulations of simulated annealing method with the 2-opt and move-city corrections"
   ]
  },
  {
   "cell_type": "code",
   "execution_count": null,
   "id": "754bd527",
   "metadata": {},
   "outputs": [],
   "source": [
    "best_tour, best_distance = run_multiple_simulations_tomc(cities, num_simulations=3000)\n",
    "print(\"Best Tour:\", best_tour)\n",
    "print(\"Best Distance:\", best_distance)\n",
    "plot_tour(best_tour, cities)"
   ]
  },
  {
   "cell_type": "markdown",
   "id": "b3e4c3ea",
   "metadata": {},
   "source": [
    "This is not the result we want."
   ]
  },
  {
   "cell_type": "markdown",
   "id": "df0a6e5c",
   "metadata": {},
   "source": [
    "## 3. Test Runs: TSP - Configuration: A280"
   ]
  },
  {
   "cell_type": "code",
   "execution_count": 31,
   "id": "0af7873f",
   "metadata": {},
   "outputs": [],
   "source": [
    "# the name of the csv file you want to read\n",
    "file_name = 'a280.tsp.txt'\n",
    "\n",
    "# combine the folder path and file name to create the file path\n",
    "file_path_a280 = folder_path + file_name"
   ]
  },
  {
   "cell_type": "code",
   "execution_count": 32,
   "id": "abcce429",
   "metadata": {},
   "outputs": [],
   "source": [
    "tsp_file_path_a280 = file_path_a280\n",
    "cities_a280 = read_tsp_file(tsp_file_path_a280)\n",
    "random.shuffle(cities_a280)\n",
    "cities_norm_a280 = normalise_dist(cities_a280)\n",
    "    \n",
    "initial_temp = 1400\n",
    "cooling_rate = 0.995 "
   ]
  },
  {
   "cell_type": "markdown",
   "id": "f9c5b43e",
   "metadata": {},
   "source": [
    "3.1 Run simulated annealing method with a fixed cooling rate."
   ]
  },
  {
   "cell_type": "code",
   "execution_count": 33,
   "id": "f35a61cc",
   "metadata": {},
   "outputs": [
    {
     "name": "stdout",
     "output_type": "stream",
     "text": [
      "34601.187039800214\n",
      "34335.301309011295\n",
      "34279.626717409395\n",
      "34144.04596293664\n",
      "33911.60235689231\n",
      "33687.03991326657\n",
      "33549.55610306672\n",
      "33388.59526371876\n",
      "33387.46573206635\n",
      "33247.68277911102\n",
      "33146.43799633375\n",
      "33137.710185282944\n",
      "33099.626204102016\n",
      "32976.373185018645\n",
      "32860.10464416364\n",
      "32787.14058241848\n",
      "32762.36059913087\n",
      "32620.871792740672\n",
      "32606.932208572573\n",
      "32539.29604897013\n",
      "32453.375417316896\n",
      "32430.020348825426\n",
      "32418.819361583584\n",
      "32212.460073322112\n",
      "32204.469138710247\n",
      "32127.62782298497\n",
      "32056.787524222866\n",
      "32049.31585276083\n",
      "32048.136875795022\n",
      "32042.45654512483\n",
      "32038.624991601864\n",
      "31977.082970291554\n",
      "31731.190342488066\n",
      "31616.503295592644\n",
      "31582.773068093844\n",
      "31555.82371157422\n",
      "31537.7193081186\n",
      "31363.23371164269\n",
      "31271.219975802036\n",
      "31218.83428942171\n",
      "31180.618358614945\n",
      "31177.35975087952\n",
      "31059.494745079868\n",
      "31048.41352012508\n",
      "30882.64738443681\n",
      "30537.281210889327\n",
      "30499.27621589606\n",
      "30235.78940794449\n"
     ]
    },
    {
     "ename": "KeyboardInterrupt",
     "evalue": "",
     "output_type": "error",
     "traceback": [
      "\u001b[0;31m---------------------------------------------------------------------------\u001b[0m",
      "\u001b[0;31mKeyboardInterrupt\u001b[0m                         Traceback (most recent call last)",
      "Cell \u001b[0;32mIn[33], line 1\u001b[0m\n\u001b[0;32m----> 1\u001b[0m best_tour, best_distance, temp_arr, prob, t, fit, ft, temp_t, best \u001b[38;5;241m=\u001b[39m simulated_annealing(cities_a280, initial_temp, cooling_rate)\n",
      "Cell \u001b[0;32mIn[2], line 5\u001b[0m, in \u001b[0;36mtimeit.<locals>.timeit_wrapper\u001b[0;34m(*args, **kwargs)\u001b[0m\n\u001b[1;32m      2\u001b[0m \u001b[38;5;129m@wraps\u001b[39m(func)\n\u001b[1;32m      3\u001b[0m \u001b[38;5;28;01mdef\u001b[39;00m \u001b[38;5;21mtimeit_wrapper\u001b[39m(\u001b[38;5;241m*\u001b[39margs, \u001b[38;5;241m*\u001b[39m\u001b[38;5;241m*\u001b[39mkwargs):\n\u001b[1;32m      4\u001b[0m     start_time \u001b[38;5;241m=\u001b[39m time\u001b[38;5;241m.\u001b[39mperf_counter()\n\u001b[0;32m----> 5\u001b[0m     result \u001b[38;5;241m=\u001b[39m func(\u001b[38;5;241m*\u001b[39margs, \u001b[38;5;241m*\u001b[39m\u001b[38;5;241m*\u001b[39mkwargs)\n\u001b[1;32m      6\u001b[0m     end_time \u001b[38;5;241m=\u001b[39m time\u001b[38;5;241m.\u001b[39mperf_counter()\n\u001b[1;32m      7\u001b[0m     total_time \u001b[38;5;241m=\u001b[39m end_time \u001b[38;5;241m-\u001b[39m start_time\n",
      "Cell \u001b[0;32mIn[17], line 57\u001b[0m, in \u001b[0;36msimulated_annealing\u001b[0;34m(cities, initial_temperature, cooling_rate)\u001b[0m\n\u001b[1;32m     54\u001b[0m         new_tour[i\u001b[38;5;241m-\u001b[39m\u001b[38;5;241m1\u001b[39m] \u001b[38;5;241m=\u001b[39m tem\n\u001b[1;32m     56\u001b[0m \u001b[38;5;66;03m# calculate the new tour distance\u001b[39;00m\n\u001b[0;32m---> 57\u001b[0m new_distance \u001b[38;5;241m=\u001b[39m calculate_total_distance(new_tour, cities)\n\u001b[1;32m     58\u001b[0m delta_distance \u001b[38;5;241m=\u001b[39m new_distance \u001b[38;5;241m-\u001b[39m current_distance\n\u001b[1;32m     60\u001b[0m \u001b[38;5;66;03m# decide whether to accept the new tour\u001b[39;00m\n",
      "Cell \u001b[0;32mIn[6], line 7\u001b[0m, in \u001b[0;36mcalculate_total_distance\u001b[0;34m(tour, cities)\u001b[0m\n\u001b[1;32m      5\u001b[0m     city2 \u001b[38;5;241m=\u001b[39m cities[tour[i \u001b[38;5;241m+\u001b[39m \u001b[38;5;241m1\u001b[39m]]\n\u001b[1;32m      6\u001b[0m     distance \u001b[38;5;241m=\u001b[39m math\u001b[38;5;241m.\u001b[39msqrt((city1[\u001b[38;5;241m0\u001b[39m] \u001b[38;5;241m-\u001b[39m city2[\u001b[38;5;241m0\u001b[39m])\u001b[38;5;241m*\u001b[39m\u001b[38;5;241m*\u001b[39m\u001b[38;5;241m2\u001b[39m \u001b[38;5;241m+\u001b[39m (city1[\u001b[38;5;241m1\u001b[39m] \u001b[38;5;241m-\u001b[39m city2[\u001b[38;5;241m1\u001b[39m])\u001b[38;5;241m*\u001b[39m\u001b[38;5;241m*\u001b[39m\u001b[38;5;241m2\u001b[39m)\n\u001b[0;32m----> 7\u001b[0m     total_distance \u001b[38;5;241m+\u001b[39m\u001b[38;5;241m=\u001b[39m distance\n\u001b[1;32m      9\u001b[0m \u001b[38;5;66;03m# return to the starting city\u001b[39;00m\n\u001b[1;32m     10\u001b[0m total_distance \u001b[38;5;241m+\u001b[39m\u001b[38;5;241m=\u001b[39m math\u001b[38;5;241m.\u001b[39msqrt((cities[tour[\u001b[38;5;241m-\u001b[39m\u001b[38;5;241m1\u001b[39m]][\u001b[38;5;241m0\u001b[39m] \u001b[38;5;241m-\u001b[39m cities[tour[\u001b[38;5;241m0\u001b[39m]][\u001b[38;5;241m0\u001b[39m])\u001b[38;5;241m*\u001b[39m\u001b[38;5;241m*\u001b[39m\u001b[38;5;241m2\u001b[39m \u001b[38;5;241m+\u001b[39m\n\u001b[1;32m     11\u001b[0m                             (cities[tour[\u001b[38;5;241m-\u001b[39m\u001b[38;5;241m1\u001b[39m]][\u001b[38;5;241m1\u001b[39m] \u001b[38;5;241m-\u001b[39m cities[tour[\u001b[38;5;241m0\u001b[39m]][\u001b[38;5;241m1\u001b[39m])\u001b[38;5;241m*\u001b[39m\u001b[38;5;241m*\u001b[39m\u001b[38;5;241m2\u001b[39m)\n",
      "\u001b[0;31mKeyboardInterrupt\u001b[0m: "
     ]
    }
   ],
   "source": [
    "best_tour, best_distance, temp_arr, prob, t, fit, ft, temp_t, best = simulated_annealing(cities_a280, initial_temp, cooling_rate)"
   ]
  },
  {
   "cell_type": "code",
   "execution_count": null,
   "id": "b9d9c505",
   "metadata": {},
   "outputs": [],
   "source": [
    "x = [cities_a280[city][0] for city in best_tour]\n",
    "y = [cities_a280[city][1] for city in best_tour]\n",
    "x.append(x[0])\n",
    "y.append(y[0])"
   ]
  },
  {
   "cell_type": "code",
   "execution_count": null,
   "id": "9c25002e",
   "metadata": {},
   "outputs": [],
   "source": [
    "best_distance = calculate_total_distance(best_tour, cities_a280)"
   ]
  },
  {
   "cell_type": "code",
   "execution_count": null,
   "id": "9e7c92f7",
   "metadata": {},
   "outputs": [],
   "source": [
    "print(\"Best Tour for A280:\", best_tour)\n",
    "print(\"Best Distance for A280:\", best_distance)\n",
    "plot_tour(best_tour, cities_a280)"
   ]
  },
  {
   "cell_type": "code",
   "execution_count": null,
   "id": "ae13e5d5",
   "metadata": {},
   "outputs": [],
   "source": [
    "coord_denorm = list(zip(x, y))\n",
    "plot_tour(best_tour, cities_norm_a280)"
   ]
  },
  {
   "cell_type": "code",
   "execution_count": null,
   "id": "8dbbe002",
   "metadata": {},
   "outputs": [],
   "source": [
    "best_route_2opt = optimise_with_2opt(best_tour, cities_a280)\n",
    "best_dist_2opt = calculate_total_distance(best_route_2opt, cities_a280)\n",
    "print(\"Best Distance_2opt:\", best_dist_2opt)"
   ]
  },
  {
   "cell_type": "code",
   "execution_count": null,
   "id": "c8f4d038",
   "metadata": {},
   "outputs": [],
   "source": [
    "plt.figure(figsize=(8, 6))\n",
    "plt.plot(temp_t, temp_arr)\n",
    "plt.title('Traveling Salesman Problem - Simulated Annealing - A280')\n",
    "plt.xlabel('Temp_t')\n",
    "plt.ylabel('Temp_rr')\n",
    "plt.show()"
   ]
  },
  {
   "cell_type": "code",
   "execution_count": null,
   "id": "9c67ff74",
   "metadata": {},
   "outputs": [],
   "source": [
    "plt.figure(figsize=(8, 6))\n",
    "plt.scatter(t, prob, s=5, label='Data Points')\n",
    "plt.title('Traveling Salesman Problem - Simulated Annealing - A280')\n",
    "plt.xlabel('t')\n",
    "plt.ylabel('prob')\n",
    "plt.show()"
   ]
  },
  {
   "cell_type": "code",
   "execution_count": null,
   "id": "b1b63461",
   "metadata": {},
   "outputs": [],
   "source": [
    "plt.figure(figsize=(8, 6))\n",
    "plt.plot(ft, fit)\n",
    "plt.title('Traveling Salesman Problem - Simulated Annealing - A280')\n",
    "plt.xlabel('ft')\n",
    "plt.ylabel('fit')\n",
    "plt.show()"
   ]
  },
  {
   "cell_type": "code",
   "execution_count": null,
   "id": "26e4e49b",
   "metadata": {},
   "outputs": [],
   "source": [
    "plt.figure(figsize=(8, 6))\n",
    "plt.plot(ft, best)\n",
    "plt.title('Traveling Salesman Problem - Simulated Annealing - A280')\n",
    "plt.xlabel('ft')\n",
    "plt.ylabel('best')\n",
    "plt.show()"
   ]
  },
  {
   "cell_type": "code",
   "execution_count": null,
   "id": "4a52b635",
   "metadata": {},
   "outputs": [],
   "source": [
    "print(best_dist_2opt)"
   ]
  },
  {
   "cell_type": "markdown",
   "id": "fedc4578",
   "metadata": {},
   "source": [
    "3.1 Run simulated annealing method with an exponential cooling schedule."
   ]
  },
  {
   "cell_type": "code",
   "execution_count": 34,
   "id": "983433a9",
   "metadata": {},
   "outputs": [],
   "source": [
    "initial_temp_list = simulated_annealing_initial(cities_a280)"
   ]
  },
  {
   "cell_type": "markdown",
   "id": "b21bf264",
   "metadata": {},
   "source": [
    "3.2 Run simulated annealing with the list-based cooling schedule"
   ]
  },
  {
   "cell_type": "code",
   "execution_count": 35,
   "id": "350522bf",
   "metadata": {},
   "outputs": [
    {
     "ename": "KeyboardInterrupt",
     "evalue": "",
     "output_type": "error",
     "traceback": [
      "\u001b[0;31m---------------------------------------------------------------------------\u001b[0m",
      "\u001b[0;31mKeyboardInterrupt\u001b[0m                         Traceback (most recent call last)",
      "Cell \u001b[0;32mIn[35], line 3\u001b[0m\n\u001b[1;32m      1\u001b[0m initial_temp \u001b[38;5;241m=\u001b[39m \u001b[38;5;241m0\u001b[39m\n\u001b[1;32m      2\u001b[0m cooling_rate \u001b[38;5;241m=\u001b[39m \u001b[38;5;241m0\u001b[39m\n\u001b[0;32m----> 3\u001b[0m best_tour, best_distance, temp_arr, prob, t, fit, ft, temp_t, best \u001b[38;5;241m=\u001b[39m simulated_annealing_list(cities_a280,initial_temp,cooling_rate, exponential_cooling, initial_temp_list)\n\u001b[1;32m      4\u001b[0m best_distance \u001b[38;5;241m=\u001b[39m calculate_total_distance(best_tour, cities_a280)\n\u001b[1;32m      6\u001b[0m \u001b[38;5;28mprint\u001b[39m(\u001b[38;5;124m\"\u001b[39m\u001b[38;5;124mBest Tour for A280 with the exponential cooling schedule:\u001b[39m\u001b[38;5;124m\"\u001b[39m, best_tour)\n",
      "Cell \u001b[0;32mIn[2], line 5\u001b[0m, in \u001b[0;36mtimeit.<locals>.timeit_wrapper\u001b[0;34m(*args, **kwargs)\u001b[0m\n\u001b[1;32m      2\u001b[0m \u001b[38;5;129m@wraps\u001b[39m(func)\n\u001b[1;32m      3\u001b[0m \u001b[38;5;28;01mdef\u001b[39;00m \u001b[38;5;21mtimeit_wrapper\u001b[39m(\u001b[38;5;241m*\u001b[39margs, \u001b[38;5;241m*\u001b[39m\u001b[38;5;241m*\u001b[39mkwargs):\n\u001b[1;32m      4\u001b[0m     start_time \u001b[38;5;241m=\u001b[39m time\u001b[38;5;241m.\u001b[39mperf_counter()\n\u001b[0;32m----> 5\u001b[0m     result \u001b[38;5;241m=\u001b[39m func(\u001b[38;5;241m*\u001b[39margs, \u001b[38;5;241m*\u001b[39m\u001b[38;5;241m*\u001b[39mkwargs)\n\u001b[1;32m      6\u001b[0m     end_time \u001b[38;5;241m=\u001b[39m time\u001b[38;5;241m.\u001b[39mperf_counter()\n\u001b[1;32m      7\u001b[0m     total_time \u001b[38;5;241m=\u001b[39m end_time \u001b[38;5;241m-\u001b[39m start_time\n",
      "Cell \u001b[0;32mIn[19], line 54\u001b[0m, in \u001b[0;36msimulated_annealing_list\u001b[0;34m(cities, initial_temperature, cooling_rate, colling_schedule_func, temper_list)\u001b[0m\n\u001b[1;32m     52\u001b[0m         new_tour[i\u001b[38;5;241m-\u001b[39m\u001b[38;5;241m1\u001b[39m] \u001b[38;5;241m=\u001b[39m tem\n\u001b[1;32m     53\u001b[0m \u001b[38;5;66;03m# calculate the new tour distance\u001b[39;00m\n\u001b[0;32m---> 54\u001b[0m new_distance \u001b[38;5;241m=\u001b[39m calculate_total_distance(new_tour, cities)\n\u001b[1;32m     55\u001b[0m delta_distance \u001b[38;5;241m=\u001b[39m new_distance \u001b[38;5;241m-\u001b[39m current_distance\n\u001b[1;32m     56\u001b[0m \u001b[38;5;66;03m# decide whether to accept the new tour\u001b[39;00m\n",
      "Cell \u001b[0;32mIn[6], line 6\u001b[0m, in \u001b[0;36mcalculate_total_distance\u001b[0;34m(tour, cities)\u001b[0m\n\u001b[1;32m      4\u001b[0m     city1 \u001b[38;5;241m=\u001b[39m cities[tour[i]]\n\u001b[1;32m      5\u001b[0m     city2 \u001b[38;5;241m=\u001b[39m cities[tour[i \u001b[38;5;241m+\u001b[39m \u001b[38;5;241m1\u001b[39m]]\n\u001b[0;32m----> 6\u001b[0m     distance \u001b[38;5;241m=\u001b[39m math\u001b[38;5;241m.\u001b[39msqrt((city1[\u001b[38;5;241m0\u001b[39m] \u001b[38;5;241m-\u001b[39m city2[\u001b[38;5;241m0\u001b[39m])\u001b[38;5;241m*\u001b[39m\u001b[38;5;241m*\u001b[39m\u001b[38;5;241m2\u001b[39m \u001b[38;5;241m+\u001b[39m (city1[\u001b[38;5;241m1\u001b[39m] \u001b[38;5;241m-\u001b[39m city2[\u001b[38;5;241m1\u001b[39m])\u001b[38;5;241m*\u001b[39m\u001b[38;5;241m*\u001b[39m\u001b[38;5;241m2\u001b[39m)\n\u001b[1;32m      7\u001b[0m     total_distance \u001b[38;5;241m+\u001b[39m\u001b[38;5;241m=\u001b[39m distance\n\u001b[1;32m      9\u001b[0m \u001b[38;5;66;03m# return to the starting city\u001b[39;00m\n",
      "\u001b[0;31mKeyboardInterrupt\u001b[0m: "
     ]
    }
   ],
   "source": [
    "initial_temp = 0\n",
    "cooling_rate = 0\n",
    "best_tour, best_distance, temp_arr, prob, t, fit, ft, temp_t, best = simulated_annealing_list(cities_a280,initial_temp,cooling_rate, exponential_cooling, initial_temp_list)\n",
    "best_distance = calculate_total_distance(best_tour, cities_a280)\n",
    "\n",
    "print(\"Best Tour for A280 with the exponential cooling schedule:\", best_tour)\n",
    "print(\"Best Distance for A280 with the exponential cooling schedule:\", best_distance)\n",
    "plot_tour(best_tour, cities_a280)\n",
    "\n",
    "plt.plot(temp_t, temp_arr)\n",
    "plt.show()\n",
    "plt.scatter(t, prob)\n",
    "plt.show()\n",
    "plt.plot(ft, fit)\n",
    "plt.show()\n",
    "plt.plot(ft, best)\n",
    "plt.yscale('log')\n",
    "plt.show()"
   ]
  },
  {
   "cell_type": "markdown",
   "id": "b19a0e1e",
   "metadata": {},
   "source": [
    "DESCRIPTION_PLACEHOLDER"
   ]
  },
  {
   "cell_type": "code",
   "execution_count": null,
   "id": "d2e0a256",
   "metadata": {},
   "outputs": [],
   "source": [
    "types = [exponential_cooling, fast_cooling]\n",
    "best_distance_list = []\n",
    "temp_arrs_list = []\n",
    "fit_arr_list = []\n",
    "temp_t_arr_list = []\n",
    "prob_arr_list = []\n",
    "t_arr_list = []\n",
    "ft_arr_list = []\n",
    "best_arr_list = []\n",
    "best_tour_arr_list = []\n",
    "temp_arr_list = []\n",
    "\n",
    "best_distance_file = 'best_distance_list.csv'\n",
    "temp_file = 'temp_list.csv'\n",
    "best_arr_lis = 'best_arr_list.csv'\n",
    "\n",
    "for _ in range(30):\n",
    "        tsp_file_path = file_path_a280\n",
    "        cities = read_tsp_file(tsp_file_path)\n",
    "        random.shuffle(cities_a280)\n",
    "        initial_temp_list = simulated_annealing_initial(cities_a280)\n",
    "        initial_temp = 1400\n",
    "        cooling_rate = 0.995\n",
    "        best_tour, best_distance, temp_arr, prob, t, fit, ft, temp_t, best = simulated_annealing_list(cities_a280,initial_temp,cooling_rate,fast_cooling, initial_temp_list)\n",
    "        with open(best_distance_file, 'a', newline='') as bd_file:\n",
    "            bd_writer = csv.writer(bd_file)\n",
    "            bd_writer.writerow([best_distance])\n",
    "        with open(temp_file, 'a', newline='') as bd_file:\n",
    "            bd_writer = csv.writer(bd_file)\n",
    "            bd_writer.writerow([temp_arr])\n",
    "        with open(best_arr_lis, 'a', newline='') as bd_file:\n",
    "            bd_writer = csv.writer(bd_file)\n",
    "            bd_writer.writerow([best])"
   ]
  },
  {
   "cell_type": "code",
   "execution_count": null,
   "id": "6d0bad13",
   "metadata": {},
   "outputs": [],
   "source": [
    "best_distance_file_fast_cooling = 'best_distance_arr_fast_cooling.csv'\n",
    "temp_file_fast_cooling = 'temp_fast_cooling.csv'\n",
    "best_arr_fast_cooling = 'best_arr_fast_cooling.csv'\n",
    "\n",
    "for iteration in range(30):\n",
    "        tsp_file_path = file_path_a280\n",
    "        cities = read_tsp_file(tsp_file_path)\n",
    "        random.shuffle(cities_a280)\n",
    "        initial_temp = 1400\n",
    "        cooling_rate = 0.995\n",
    "        best_tour, best_distance, temp_arr, prob, t, fit, ft, temp_t, best = simulated_annealing_cooling_check(cities_a280, initial_temp, cooling_rate, fast_cooling)\n",
    "\n",
    "        with open(best_distance_file_fast_cooling, 'a', newline='') as bd_file:\n",
    "            bd_writer = csv.writer(bd_file)\n",
    "            bd_writer.writerow([best_distance])\n",
    "        with open(temp_file_fast_cooling, 'a', newline='') as bd_file:\n",
    "            bd_writer = csv.writer(bd_file)\n",
    "            bd_writer.writerow([temp_arr])\n",
    "        with open(best_arr_fast_cooling, 'a', newline='') as bd_file:\n",
    "            bd_writer = csv.writer(bd_file)\n",
    "            bd_writer.writerow([best])"
   ]
  },
  {
   "cell_type": "code",
   "execution_count": null,
   "id": "805bb4c6",
   "metadata": {},
   "outputs": [],
   "source": [
    "best_distanceexp= 'best_distance_arr_fexpon.csv'\n",
    "temp_fileexp= 'temp_fastexpon.csv'\n",
    "best_arrexp = 'best_arr_fast_expon.csv'\n",
    "for _ in range(30):\n",
    "    tsp_file_path = file_path_a280\n",
    "    cities = read_tsp_file(tsp_file_path)\n",
    "    random.shuffle(cities_a280)\n",
    "    initial_temp = 1400\n",
    "    cooling_rate = 0.995\n",
    "    best_tour, best_distance, temp_arr, prob, t, fit, ft, temp_t, best  = simulated_annealing_cooling_check(cities_a280,initial_temp,cooling_rate,exponential_cooling)\n",
    "    \n",
    "    with open(best_distanceexp, 'a', newline='') as bd_file:\n",
    "            bd_writer = csv.writer(bd_file)\n",
    "            bd_writer.writerow([best_distance])\n",
    "    with open(temp_fileexp, 'a', newline='') as bd_file:\n",
    "            bd_writer = csv.writer(bd_file)\n",
    "            bd_writer.writerow([temp_arr])\n",
    "    with open(best_arrexp, 'a', newline='') as bd_file:\n",
    "            bd_writer = csv.writer(bd_file)\n",
    "            bd_writer.writerow([best])"
   ]
  },
  {
   "cell_type": "markdown",
   "id": "b35ae7e7",
   "metadata": {},
   "source": [
    "### 2.3.1 Length of the Markov Chain"
   ]
  },
  {
   "cell_type": "code",
   "execution_count": null,
   "id": "b3a2c8df",
   "metadata": {},
   "outputs": [],
   "source": [
    "best_tours_mc_l,best_distances_mc_l,temp_array_list,temp_t_list, t_list, fitness_list, fitness_t_list, best_list = simulated_annealing_mar_len(cities_a280,initial_temp,cooling_rate)"
   ]
  },
  {
   "cell_type": "code",
   "execution_count": null,
   "id": "dfba98b2",
   "metadata": {},
   "outputs": [],
   "source": [
    "# create a new list with counters for each sublist\n",
    "time_stamp_list = [[i+1 for i in range(len(sublist))] for sublist in best_list]"
   ]
  },
  {
   "cell_type": "code",
   "execution_count": null,
   "id": "e6d93860",
   "metadata": {},
   "outputs": [],
   "source": [
    "# list of labels for legend\n",
    "labels = ['500', '1000', '1500', '2000', '2500', '3000', '3500', '4000', '4500', '5000']  \n",
    "\n",
    "plt.figure(figsize=(10, 6))\n",
    "plt.title('Convergence to Optimal Value Estimate for A280 for Varying Markov Chain Length')\n",
    "\n",
    "# generate a palette of colors\n",
    "colors = sns.color_palette(\"husl\", len(temp_t_list))\n",
    "\n",
    "# plot each pair of arrays with a different color from the palette\n",
    "for x_values, y_values, color, label in zip(time_stamp_list, best_list, colors, labels):\n",
    "    plt.plot(x_values, y_values, linestyle='-', linewidth=1, color=color, label=label)\n",
    "\n",
    "plt.xlabel('Time Steps')  \n",
    "plt.ylabel('Optimal Value Estimate for the TSP Route Length') \n",
    "plt.legend()\n",
    "plt.show()"
   ]
  },
  {
   "cell_type": "code",
   "execution_count": null,
   "id": "e5c4ef47",
   "metadata": {},
   "outputs": [],
   "source": [
    "# list of labels for legend\n",
    "labels = ['500', '1000', '1500', '2000', '2500', '3000', '3500', '4000', '4500', '5000']  \n",
    "\n",
    "plt.figure(figsize=(10, 6))\n",
    "plt.title('Convergence to Optimal Value Estimate for A280 for Varying Markov Chain Length (loglog)')\n",
    "\n",
    "# generate a palette of colors\n",
    "colors = sns.color_palette(\"husl\", len(temp_t_list))\n",
    "\n",
    "# plot each pair of arrays with a different color from the palette\n",
    "for x_values, y_values, color, label in zip(time_stamp_list, best_list, colors, labels):\n",
    "    plt.loglog(x_values, y_values, linestyle='-', linewidth=1, color=color, label=label)\n",
    "\n",
    "plt.xlabel('Time Steps')  \n",
    "plt.ylabel('Optimal Value Estimate for the TSP Route Length') \n",
    "plt.legend()\n",
    "plt.show()"
   ]
  },
  {
   "cell_type": "markdown",
   "id": "6be4a6ac",
   "metadata": {},
   "source": [
    "## 3. Test Runs: TSP - Configuration: PCB442"
   ]
  },
  {
   "cell_type": "code",
   "execution_count": null,
   "id": "bd44c6cf",
   "metadata": {},
   "outputs": [],
   "source": [
    "# the name of the csv file you want to read\n",
    "file_name = 'pcb442.tsp.txt'\n",
    "\n",
    "# combine the folder path and file name to create the file path\n",
    "file_path_pcb442 = folder_path + file_name"
   ]
  },
  {
   "cell_type": "code",
   "execution_count": null,
   "id": "7edf3e13",
   "metadata": {},
   "outputs": [],
   "source": [
    "tsp_file_path_pcb442 = file_path_pcb442\n",
    "cities_pcb442 = read_tsp_file(tsp_file_path_pcb442)\n",
    "random.shuffle(cities_pcb442)\n",
    "cities_norm_pcb442 = normalise_dist(cities_pcb442)\n",
    "    \n",
    "initial_temp = 1400\n",
    "cooling_rate = 0.995 "
   ]
  },
  {
   "cell_type": "code",
   "execution_count": null,
   "id": "ef800f24",
   "metadata": {},
   "outputs": [],
   "source": [
    "best_tour_pcb442, best_distance_pcb442, temp_arr, prob, t, fit, ft, temp_t, best_pcb442 = simulated_annealing(cities_pcb442,initial_temp,cooling_rate)"
   ]
  },
  {
   "cell_type": "code",
   "execution_count": null,
   "id": "9e0b8b88",
   "metadata": {},
   "outputs": [],
   "source": [
    "x = [cities_pcb442[city][0] for city in best_tour_pcb442]\n",
    "y = [cities_pcb442[city][1] for city in best_tour_pcb442]\n",
    "x.append(x[0])\n",
    "y.append(y[0])"
   ]
  },
  {
   "cell_type": "code",
   "execution_count": null,
   "id": "b64aaceb",
   "metadata": {},
   "outputs": [],
   "source": [
    "best_distance_pcb442 = calculate_total_distance(best_tour_pcb442, cities_pcb442)"
   ]
  },
  {
   "cell_type": "code",
   "execution_count": null,
   "id": "a5b6f44d",
   "metadata": {},
   "outputs": [],
   "source": [
    "print(\"Best Tour for PCB442:\", best_tour_pcb442)\n",
    "print(\"Best Distance for PCB442:\", best_distance_pcb442)\n",
    "plot_tour(best_tour_pcb442, cities_pcb442)"
   ]
  },
  {
   "cell_type": "code",
   "execution_count": null,
   "id": "2631b92d",
   "metadata": {},
   "outputs": [],
   "source": [
    "coord_denorm = list(zip(x, y))\n",
    "plot_tour(best_tour_pcb442, cities_norm_pcb442)"
   ]
  },
  {
   "cell_type": "code",
   "execution_count": null,
   "id": "a58af370",
   "metadata": {},
   "outputs": [],
   "source": [
    "best_route_2opt_pcb442 = optimise_with_2opt(best_tour_pcb442, cities_pcb442)\n",
    "best_dist_2opt_pcb442 = calculate_total_distance(best_route_2opt_pcb442, cities_pcb442)\n",
    "print(\"Best Distance_2opt for PCB442:\", best_dist_2opt_pcb442)"
   ]
  },
  {
   "cell_type": "code",
   "execution_count": null,
   "id": "6d019080",
   "metadata": {},
   "outputs": [],
   "source": [
    "plt.figure(figsize=(8, 6))\n",
    "plt.plot(temp_t, temp_arr)\n",
    "plt.title('Traveling Salesman Problem - Simulated Annealing - PCB442')\n",
    "plt.xlabel('Temp_t')\n",
    "plt.ylabel('Temp_rr')\n",
    "plt.show()"
   ]
  },
  {
   "cell_type": "code",
   "execution_count": null,
   "id": "4331dc89",
   "metadata": {},
   "outputs": [],
   "source": [
    "plt.figure(figsize=(8, 6))\n",
    "plt.scatter(t, prob, s=5, label='Data Points')\n",
    "plt.title('Traveling Salesman Problem - Simulated Annealing - PCB442')\n",
    "plt.xlabel('t')\n",
    "plt.ylabel('prob')\n",
    "plt.show()"
   ]
  },
  {
   "cell_type": "code",
   "execution_count": null,
   "id": "1d7a377a",
   "metadata": {},
   "outputs": [],
   "source": [
    "plt.figure(figsize=(8, 6))\n",
    "plt.plot(ft, fit)\n",
    "plt.title('Traveling Salesman Problem - Simulated Annealing - PCB442')\n",
    "plt.xlabel('ft')\n",
    "plt.ylabel('fit')\n",
    "plt.show()"
   ]
  },
  {
   "cell_type": "code",
   "execution_count": null,
   "id": "dcd52678",
   "metadata": {},
   "outputs": [],
   "source": [
    "plt.figure(figsize=(8, 6))\n",
    "plt.plot(ft, best_pcb442)\n",
    "plt.title('Traveling Salesman Problem - Simulated Annealing - PCB442')\n",
    "plt.xlabel('ft')\n",
    "plt.ylabel('best')\n",
    "plt.show()"
   ]
  }
 ],
 "metadata": {
  "kernelspec": {
   "display_name": "Python 3 (ipykernel)",
   "language": "python",
   "name": "python3"
  },
  "language_info": {
   "codemirror_mode": {
    "name": "ipython",
    "version": 3
   },
   "file_extension": ".py",
   "mimetype": "text/x-python",
   "name": "python",
   "nbconvert_exporter": "python",
   "pygments_lexer": "ipython3",
   "version": "3.11.5"
  }
 },
 "nbformat": 4,
 "nbformat_minor": 5
}
